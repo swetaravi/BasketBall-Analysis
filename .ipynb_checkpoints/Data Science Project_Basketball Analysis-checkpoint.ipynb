{
 "cells": [
  {
   "cell_type": "markdown",
   "metadata": {},
   "source": [
    "# Data Science Project - Basketball Analysis"
   ]
  },
  {
   "cell_type": "code",
   "execution_count": null,
   "metadata": {
    "collapsed": true
   },
   "outputs": [],
   "source": []
  },
  {
   "cell_type": "markdown",
   "metadata": {},
   "source": [
    "# WARNING: REMOVE ANY CODE TO VIEW THE RAW DATA BEFORE TURNING IN"
   ]
  },
  {
   "cell_type": "code",
   "execution_count": null,
   "metadata": {
    "collapsed": true
   },
   "outputs": [],
   "source": []
  },
  {
   "cell_type": "markdown",
   "metadata": {},
   "source": [
    "## Background and Motivation"
   ]
  },
  {
   "cell_type": "markdown",
   "metadata": {
    "collapsed": true
   },
   "source": [
    "- One of the popular sports in the U.S. is basketball. One of the most important days in any sport is game day. Prathusha did an internship with the basketball team and this idea fascinated the others. Because of the interest in basketball and the importance of game day, we are trying to predict the performance on game day based on various factors taken into consideration for our home team.\n",
    "- There are variety of factors taken into consideration for the analysis and prediction. For example, players’ performance leading up to game day, injuries, and the influence of a player on the overall team performance\n"
   ]
  },
  {
   "cell_type": "markdown",
   "metadata": {},
   "source": [
    "## Project Objectives"
   ]
  },
  {
   "cell_type": "markdown",
   "metadata": {},
   "source": [
    "- Prediction of the performance of individual players as game day arrives is based on various deciding factors like injury, player involvement, and other measures of performance for each practice. Game day is quite stressful, but also an important day to perform well. Without adding more pressure on the team to perform well on game day, our analytics will help the home team to win the match based on their performance on each day.\n",
    "- We will use the factors injury, duration of each player’s practice, and the performance of each of the players as game day approaches, to do supervised and unsupervised analysis. Various factors will be used in these analyses to get maximum achieved performance on game day.\n",
    "- Implementing strategic analysis methods will increase the probability of the team winning games in the future as well as reduce injuries.\n"
   ]
  },
  {
   "cell_type": "markdown",
   "metadata": {},
   "source": [
    "##  Input data"
   ]
  },
  {
   "cell_type": "code",
   "execution_count": 2,
   "metadata": {
    "collapsed": true
   },
   "outputs": [],
   "source": [
    "# imports and setup \n",
    "\n",
    "import pandas as pd\n",
    "import numpy as np\n",
    "\n",
    "from sklearn.cluster import KMeans, AgglomerativeClustering\n",
    "\n",
    "from sklearn import tree, svm, metrics\n",
    "from sklearn.neighbors import KNeighborsClassifier\n",
    "from sklearn.model_selection import train_test_split, cross_val_predict, cross_val_score, KFold\n",
    "from sklearn.preprocessing import scale\n",
    "from sklearn.metrics import accuracy_score\n",
    "from sklearn.feature_extraction.text import TfidfVectorizer\n",
    "from sklearn.feature_extraction.text import CountVectorizer\n",
    "from sklearn.naive_bayes import MultinomialNB\n",
    "\n",
    "import re\n",
    "\n",
    "import matplotlib.pyplot as plt\n",
    "%matplotlib inline\n",
    "plt.rcParams['figure.figsize'] = (10, 6)\n",
    "plt.style.use('ggplot')"
   ]
  },
  {
   "cell_type": "code",
   "execution_count": 5,
   "metadata": {},
   "outputs": [],
   "source": [
    "analysis_data = pd.read_csv(\"CS Project Player Data.csv\")"
   ]
  },
  {
   "cell_type": "code",
   "execution_count": 8,
   "metadata": {
    "scrolled": false
   },
   "outputs": [],
   "source": [
    "game_data = pd.read_csv(\"CS Project Game Logs.csv\", header = 1)"
   ]
  },
  {
   "cell_type": "markdown",
   "metadata": {},
   "source": [
    "## Exploring the Data"
   ]
  },
  {
   "cell_type": "code",
   "execution_count": 22,
   "metadata": {},
   "outputs": [
    {
     "data": {
      "text/html": [
       "<div>\n",
       "<style>\n",
       "    .dataframe thead tr:only-child th {\n",
       "        text-align: right;\n",
       "    }\n",
       "\n",
       "    .dataframe thead th {\n",
       "        text-align: left;\n",
       "    }\n",
       "\n",
       "    .dataframe tbody tr th {\n",
       "        vertical-align: top;\n",
       "    }\n",
       "</style>\n",
       "<table border=\"1\" class=\"dataframe\">\n",
       "  <thead>\n",
       "    <tr style=\"text-align: right;\">\n",
       "      <th></th>\n",
       "      <th>InjuryStatus</th>\n",
       "      <th>InjuryType</th>\n",
       "      <th>ActivityType</th>\n",
       "      <th>rpe</th>\n",
       "      <th>dur</th>\n",
       "      <th>minply</th>\n",
       "      <th>trimp</th>\n",
       "      <th>TPR</th>\n",
       "    </tr>\n",
       "  </thead>\n",
       "  <tbody>\n",
       "    <tr>\n",
       "      <th>count</th>\n",
       "      <td>5666.000000</td>\n",
       "      <td>5666.000000</td>\n",
       "      <td>5665.000000</td>\n",
       "      <td>5554.000000</td>\n",
       "      <td>5681.000000</td>\n",
       "      <td>1295.000000</td>\n",
       "      <td>5593.000000</td>\n",
       "      <td>58.000000</td>\n",
       "    </tr>\n",
       "    <tr>\n",
       "      <th>mean</th>\n",
       "      <td>0.207201</td>\n",
       "      <td>0.171550</td>\n",
       "      <td>0.883495</td>\n",
       "      <td>2.331847</td>\n",
       "      <td>94.457281</td>\n",
       "      <td>10.820783</td>\n",
       "      <td>307.903487</td>\n",
       "      <td>50.973099</td>\n",
       "    </tr>\n",
       "    <tr>\n",
       "      <th>std</th>\n",
       "      <td>0.650988</td>\n",
       "      <td>0.594065</td>\n",
       "      <td>0.675581</td>\n",
       "      <td>1.998314</td>\n",
       "      <td>67.055216</td>\n",
       "      <td>12.345886</td>\n",
       "      <td>300.389405</td>\n",
       "      <td>30.243924</td>\n",
       "    </tr>\n",
       "    <tr>\n",
       "      <th>min</th>\n",
       "      <td>0.000000</td>\n",
       "      <td>0.000000</td>\n",
       "      <td>0.000000</td>\n",
       "      <td>0.000000</td>\n",
       "      <td>0.000000</td>\n",
       "      <td>0.000000</td>\n",
       "      <td>0.000000</td>\n",
       "      <td>0.304551</td>\n",
       "    </tr>\n",
       "    <tr>\n",
       "      <th>25%</th>\n",
       "      <td>0.000000</td>\n",
       "      <td>0.000000</td>\n",
       "      <td>0.000000</td>\n",
       "      <td>0.000000</td>\n",
       "      <td>0.000000</td>\n",
       "      <td>0.000000</td>\n",
       "      <td>0.000000</td>\n",
       "      <td>21.737168</td>\n",
       "    </tr>\n",
       "    <tr>\n",
       "      <th>50%</th>\n",
       "      <td>0.000000</td>\n",
       "      <td>0.000000</td>\n",
       "      <td>1.000000</td>\n",
       "      <td>3.000000</td>\n",
       "      <td>119.000000</td>\n",
       "      <td>3.000000</td>\n",
       "      <td>300.000000</td>\n",
       "      <td>52.041566</td>\n",
       "    </tr>\n",
       "    <tr>\n",
       "      <th>75%</th>\n",
       "      <td>0.000000</td>\n",
       "      <td>0.000000</td>\n",
       "      <td>1.000000</td>\n",
       "      <td>4.000000</td>\n",
       "      <td>150.000000</td>\n",
       "      <td>21.838889</td>\n",
       "      <td>500.000000</td>\n",
       "      <td>76.506879</td>\n",
       "    </tr>\n",
       "    <tr>\n",
       "      <th>max</th>\n",
       "      <td>6.000000</td>\n",
       "      <td>6.000000</td>\n",
       "      <td>3.000000</td>\n",
       "      <td>10.000000</td>\n",
       "      <td>214.000000</td>\n",
       "      <td>47.000000</td>\n",
       "      <td>1712.000000</td>\n",
       "      <td>99.917358</td>\n",
       "    </tr>\n",
       "  </tbody>\n",
       "</table>\n",
       "</div>"
      ],
      "text/plain": [
       "       InjuryStatus   InjuryType  ActivityType          rpe          dur  \\\n",
       "count   5666.000000  5666.000000   5665.000000  5554.000000  5681.000000   \n",
       "mean       0.207201     0.171550      0.883495     2.331847    94.457281   \n",
       "std        0.650988     0.594065      0.675581     1.998314    67.055216   \n",
       "min        0.000000     0.000000      0.000000     0.000000     0.000000   \n",
       "25%        0.000000     0.000000      0.000000     0.000000     0.000000   \n",
       "50%        0.000000     0.000000      1.000000     3.000000   119.000000   \n",
       "75%        0.000000     0.000000      1.000000     4.000000   150.000000   \n",
       "max        6.000000     6.000000      3.000000    10.000000   214.000000   \n",
       "\n",
       "            minply        trimp        TPR  \n",
       "count  1295.000000  5593.000000  58.000000  \n",
       "mean     10.820783   307.903487  50.973099  \n",
       "std      12.345886   300.389405  30.243924  \n",
       "min       0.000000     0.000000   0.304551  \n",
       "25%       0.000000     0.000000  21.737168  \n",
       "50%       3.000000   300.000000  52.041566  \n",
       "75%      21.838889   500.000000  76.506879  \n",
       "max      47.000000  1712.000000  99.917358  "
      ]
     },
     "execution_count": 22,
     "metadata": {},
     "output_type": "execute_result"
    }
   ],
   "source": [
    "analysis_data.describe()"
   ]
  },
  {
   "cell_type": "markdown",
   "metadata": {},
   "source": [
    "There are ~5500 data recorded. There are very few instances of an injury. Most of the data that is recorded is for practices."
   ]
  },
  {
   "cell_type": "code",
   "execution_count": 13,
   "metadata": {},
   "outputs": [
    {
     "name": "stdout",
     "output_type": "stream",
     "text": [
      "<class 'pandas.core.frame.DataFrame'>\n",
      "RangeIndex: 5700 entries, 0 to 5699\n",
      "Data columns (total 13 columns):\n",
      "PlayerID            5700 non-null object\n",
      "date                5700 non-null object\n",
      "InjuryStatus        5666 non-null float64\n",
      "InjuryType          5666 non-null float64\n",
      "ActivityType        5665 non-null float64\n",
      "rpe                 5554 non-null float64\n",
      "dur                 5681 non-null float64\n",
      "minply              1295 non-null float64\n",
      "trimp               5593 non-null float64\n",
      "Location            3781 non-null object\n",
      "Opponent            895 non-null object\n",
      "Date_Act_Loc_Opp    5700 non-null object\n",
      "TPR                 58 non-null float64\n",
      "dtypes: float64(8), object(5)\n",
      "memory usage: 579.0+ KB\n"
     ]
    }
   ],
   "source": [
    "analysis_data.info()"
   ]
  },
  {
   "cell_type": "code",
   "execution_count": 21,
   "metadata": {},
   "outputs": [
    {
     "name": "stdout",
     "output_type": "stream",
     "text": [
      "There are 25 athletes on the Basketball team.\n"
     ]
    }
   ],
   "source": [
    "num_ath = len(analysis_data.PlayerID.unique())\n",
    "print(\"There are \" + str(num_ath) + \" athletes on the Basketball team.\")"
   ]
  },
  {
   "cell_type": "code",
   "execution_count": null,
   "metadata": {
    "collapsed": true
   },
   "outputs": [],
   "source": []
  }
 ],
 "metadata": {
  "kernelspec": {
   "display_name": "Python 3",
   "language": "python",
   "name": "python3"
  },
  "language_info": {
   "codemirror_mode": {
    "name": "ipython",
    "version": 3
   },
   "file_extension": ".py",
   "mimetype": "text/x-python",
   "name": "python",
   "nbconvert_exporter": "python",
   "pygments_lexer": "ipython3",
   "version": "3.6.3"
  }
 },
 "nbformat": 4,
 "nbformat_minor": 2
}
